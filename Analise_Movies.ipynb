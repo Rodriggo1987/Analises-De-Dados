{
  "nbformat": 4,
  "nbformat_minor": 0,
  "metadata": {
    "colab": {
      "provenance": [],
      "authorship_tag": "ABX9TyOwHrTeWCYEsSYyW5Qfz6zV",
      "include_colab_link": true
    },
    "kernelspec": {
      "name": "python3",
      "display_name": "Python 3"
    },
    "language_info": {
      "name": "python"
    }
  },
  "cells": [
    {
      "cell_type": "markdown",
      "metadata": {
        "id": "view-in-github",
        "colab_type": "text"
      },
      "source": [
        "<a href=\"https://colab.research.google.com/github/Rodriggo1987/Analises-De-Dados/blob/main/Analise_Movies.ipynb\" target=\"_parent\"><img src=\"https://colab.research.google.com/assets/colab-badge.svg\" alt=\"Open In Colab\"/></a>"
      ]
    },
    {
      "cell_type": "code",
      "execution_count": null,
      "metadata": {
        "id": "8y4L_2VAx-LX"
      },
      "outputs": [],
      "source": [
        "import requests\n",
        "import time\n",
        "import csv\n",
        "import concurrent.futures\n",
        "import pandas as pd\n",
        "import numpy as np\n",
        "import requests\n",
        "from bs4 import BeautifulSoup\n",
        "from time import sleep\n",
        "from random import randint\n",
        "\n"
      ]
    },
    {
      "cell_type": "code",
      "source": [
        "# global headers to be used for requests\n",
        "headers = {'User-Agent': 'Mozilla/5.0 (Macintosh; Intel Mac OS X 10_10_1) AppleWebKit/537.36 (KHTML, like Gecko) Chrome/39.0.2171.95 Safari/537.36'}\n",
        "\n",
        "MAX_THREADS = 20"
      ],
      "metadata": {
        "id": "iQFsA5Qb2lP8"
      },
      "execution_count": null,
      "outputs": []
    },
    {
      "cell_type": "code",
      "source": [
        "#declaring the list of empty variables, So that we can append the data overall\n",
        "\n",
        "movie_name = []\n",
        "year = []\n",
        "time=[]\n",
        "rating=[]\n",
        "metascore =[]\n",
        "votes = []\n",
        "gross = []\n",
        "description = []"
      ],
      "metadata": {
        "id": "ZpSz7gM2MrxA"
      },
      "execution_count": null,
      "outputs": []
    },
    {
      "cell_type": "code",
      "source": [
        "#creating an array of values and passing it in the url for dynamic webpages\n",
        "pages = np.arange(1,1000,100)"
      ],
      "metadata": {
        "id": "h3ctNZgkMz1q"
      },
      "execution_count": null,
      "outputs": []
    },
    {
      "cell_type": "code",
      "source": [
        "#the whole core of the script\n",
        "for page in pages:\n",
        "    page = requests.get(\"https://www.imdb.com/search/title/?groups=top_1000&sort=user_rating,desc&count=100&start=\"+str(page)+\"&ref_=adv_nxt\")\n",
        "    soup = BeautifulSoup(page.text, 'html.parser')\n",
        "    movie_data = soup.findAll('div', attrs = {'class': 'lister-item mode-advanced'})\n",
        "    sleep(randint(2,8))\n",
        "    for store in movie_data:\n",
        "        name = store.h3.a.text\n",
        "        movie_name.append(name)\n",
        "\n",
        "        year_of_release = store.h3.find('span', class_ = \"lister-item-year text-muted unbold\").text\n",
        "        year.append(year_of_release)\n",
        "\n",
        "        runtime = store.p.find(\"span\", class_ = 'runtime').text\n",
        "        time.append(runtime)\n",
        "\n",
        "        rate = store.find('div', class_ = \"inline-block ratings-imdb-rating\").text.replace('\\n', '')\n",
        "        rating.append(rate)\n",
        "\n",
        "        meta = store.find('span', class_ = \"metascore\").text if store.find('span', class_ = \"metascore\") else \"****\"\n",
        "        metascore.append(meta)\n",
        "\n",
        "\n",
        "        value = store.find_all('span', attrs = {'name': \"nv\"})\n",
        "\n",
        "        vote = value[0].text\n",
        "        votes.append(vote)\n",
        "\n",
        "        grosses = value[1].text if len(value)>1 else '%^%^%^'\n",
        "        gross.append(grosses)\n",
        "\n",
        "        # Description of the Movies -- Not explained in the Video, But you will figure it out.\n",
        "        describe = store.find_all('p', class_ = 'text-muted')\n",
        "        description_ = describe[1].text.replace('\\n', '') if len(describe) >1 else '*****'\n",
        "        description.append(description_)"
      ],
      "metadata": {
        "id": "eUcJN7k0NArR"
      },
      "execution_count": null,
      "outputs": []
    },
    {
      "cell_type": "code",
      "source": [
        "#creating a dataframe\n",
        "movie_list = pd.DataFrame({\"Movie Name\": movie_name, \"Year of Release\" : year, \"Watch Time\": time, \"Vote\": votes})"
      ],
      "metadata": {
        "id": "H1TBhufoNMoo"
      },
      "execution_count": null,
      "outputs": []
    },
    {
      "cell_type": "code",
      "source": [
        "movie_list.head(10)\n"
      ],
      "metadata": {
        "colab": {
          "base_uri": "https://localhost:8080/",
          "height": 363
        },
        "id": "l43XKZRrOJGI",
        "outputId": "7ff05395-f444-44f9-aa6d-ad6b59af8b68"
      },
      "execution_count": null,
      "outputs": [
        {
          "output_type": "execute_result",
          "data": {
            "text/plain": [
              "                                      Movie Name Year of Release Watch Time  \\\n",
              "0                       The Shawshank Redemption          (1994)    142 min   \n",
              "1                                  The Godfather          (1972)    175 min   \n",
              "2                               K.G.F: Chapter 2          (2022)    168 min   \n",
              "3                                The Dark Knight          (2008)    152 min   \n",
              "4  The Lord of the Rings: The Return of the King          (2003)    201 min   \n",
              "5                               Schindler's List          (1993)    195 min   \n",
              "6                         The Godfather: Part II          (1974)    202 min   \n",
              "7                               De 12 gezworenen          (1957)     96 min   \n",
              "8                                       Jai Bhim          (2021)    164 min   \n",
              "9                                   Pulp Fiction          (1994)    154 min   \n",
              "\n",
              "        Vote  \n",
              "0  2,580,024  \n",
              "1  1,776,271  \n",
              "2     82,867  \n",
              "3  2,549,052  \n",
              "4  1,773,745  \n",
              "5  1,313,661  \n",
              "6  1,228,010  \n",
              "7    761,967  \n",
              "8    187,513  \n",
              "9  1,979,524  "
            ],
            "text/html": [
              "\n",
              "  <div id=\"df-e186ef75-5b1f-4a6c-b240-8337356bdadf\">\n",
              "    <div class=\"colab-df-container\">\n",
              "      <div>\n",
              "<style scoped>\n",
              "    .dataframe tbody tr th:only-of-type {\n",
              "        vertical-align: middle;\n",
              "    }\n",
              "\n",
              "    .dataframe tbody tr th {\n",
              "        vertical-align: top;\n",
              "    }\n",
              "\n",
              "    .dataframe thead th {\n",
              "        text-align: right;\n",
              "    }\n",
              "</style>\n",
              "<table border=\"1\" class=\"dataframe\">\n",
              "  <thead>\n",
              "    <tr style=\"text-align: right;\">\n",
              "      <th></th>\n",
              "      <th>Movie Name</th>\n",
              "      <th>Year of Release</th>\n",
              "      <th>Watch Time</th>\n",
              "      <th>Vote</th>\n",
              "    </tr>\n",
              "  </thead>\n",
              "  <tbody>\n",
              "    <tr>\n",
              "      <th>0</th>\n",
              "      <td>The Shawshank Redemption</td>\n",
              "      <td>(1994)</td>\n",
              "      <td>142 min</td>\n",
              "      <td>2,580,024</td>\n",
              "    </tr>\n",
              "    <tr>\n",
              "      <th>1</th>\n",
              "      <td>The Godfather</td>\n",
              "      <td>(1972)</td>\n",
              "      <td>175 min</td>\n",
              "      <td>1,776,271</td>\n",
              "    </tr>\n",
              "    <tr>\n",
              "      <th>2</th>\n",
              "      <td>K.G.F: Chapter 2</td>\n",
              "      <td>(2022)</td>\n",
              "      <td>168 min</td>\n",
              "      <td>82,867</td>\n",
              "    </tr>\n",
              "    <tr>\n",
              "      <th>3</th>\n",
              "      <td>The Dark Knight</td>\n",
              "      <td>(2008)</td>\n",
              "      <td>152 min</td>\n",
              "      <td>2,549,052</td>\n",
              "    </tr>\n",
              "    <tr>\n",
              "      <th>4</th>\n",
              "      <td>The Lord of the Rings: The Return of the King</td>\n",
              "      <td>(2003)</td>\n",
              "      <td>201 min</td>\n",
              "      <td>1,773,745</td>\n",
              "    </tr>\n",
              "    <tr>\n",
              "      <th>5</th>\n",
              "      <td>Schindler's List</td>\n",
              "      <td>(1993)</td>\n",
              "      <td>195 min</td>\n",
              "      <td>1,313,661</td>\n",
              "    </tr>\n",
              "    <tr>\n",
              "      <th>6</th>\n",
              "      <td>The Godfather: Part II</td>\n",
              "      <td>(1974)</td>\n",
              "      <td>202 min</td>\n",
              "      <td>1,228,010</td>\n",
              "    </tr>\n",
              "    <tr>\n",
              "      <th>7</th>\n",
              "      <td>De 12 gezworenen</td>\n",
              "      <td>(1957)</td>\n",
              "      <td>96 min</td>\n",
              "      <td>761,967</td>\n",
              "    </tr>\n",
              "    <tr>\n",
              "      <th>8</th>\n",
              "      <td>Jai Bhim</td>\n",
              "      <td>(2021)</td>\n",
              "      <td>164 min</td>\n",
              "      <td>187,513</td>\n",
              "    </tr>\n",
              "    <tr>\n",
              "      <th>9</th>\n",
              "      <td>Pulp Fiction</td>\n",
              "      <td>(1994)</td>\n",
              "      <td>154 min</td>\n",
              "      <td>1,979,524</td>\n",
              "    </tr>\n",
              "  </tbody>\n",
              "</table>\n",
              "</div>\n",
              "      <button class=\"colab-df-convert\" onclick=\"convertToInteractive('df-e186ef75-5b1f-4a6c-b240-8337356bdadf')\"\n",
              "              title=\"Convert this dataframe to an interactive table.\"\n",
              "              style=\"display:none;\">\n",
              "        \n",
              "  <svg xmlns=\"http://www.w3.org/2000/svg\" height=\"24px\"viewBox=\"0 0 24 24\"\n",
              "       width=\"24px\">\n",
              "    <path d=\"M0 0h24v24H0V0z\" fill=\"none\"/>\n",
              "    <path d=\"M18.56 5.44l.94 2.06.94-2.06 2.06-.94-2.06-.94-.94-2.06-.94 2.06-2.06.94zm-11 1L8.5 8.5l.94-2.06 2.06-.94-2.06-.94L8.5 2.5l-.94 2.06-2.06.94zm10 10l.94 2.06.94-2.06 2.06-.94-2.06-.94-.94-2.06-.94 2.06-2.06.94z\"/><path d=\"M17.41 7.96l-1.37-1.37c-.4-.4-.92-.59-1.43-.59-.52 0-1.04.2-1.43.59L10.3 9.45l-7.72 7.72c-.78.78-.78 2.05 0 2.83L4 21.41c.39.39.9.59 1.41.59.51 0 1.02-.2 1.41-.59l7.78-7.78 2.81-2.81c.8-.78.8-2.07 0-2.86zM5.41 20L4 18.59l7.72-7.72 1.47 1.35L5.41 20z\"/>\n",
              "  </svg>\n",
              "      </button>\n",
              "      \n",
              "  <style>\n",
              "    .colab-df-container {\n",
              "      display:flex;\n",
              "      flex-wrap:wrap;\n",
              "      gap: 12px;\n",
              "    }\n",
              "\n",
              "    .colab-df-convert {\n",
              "      background-color: #E8F0FE;\n",
              "      border: none;\n",
              "      border-radius: 50%;\n",
              "      cursor: pointer;\n",
              "      display: none;\n",
              "      fill: #1967D2;\n",
              "      height: 32px;\n",
              "      padding: 0 0 0 0;\n",
              "      width: 32px;\n",
              "    }\n",
              "\n",
              "    .colab-df-convert:hover {\n",
              "      background-color: #E2EBFA;\n",
              "      box-shadow: 0px 1px 2px rgba(60, 64, 67, 0.3), 0px 1px 3px 1px rgba(60, 64, 67, 0.15);\n",
              "      fill: #174EA6;\n",
              "    }\n",
              "\n",
              "    [theme=dark] .colab-df-convert {\n",
              "      background-color: #3B4455;\n",
              "      fill: #D2E3FC;\n",
              "    }\n",
              "\n",
              "    [theme=dark] .colab-df-convert:hover {\n",
              "      background-color: #434B5C;\n",
              "      box-shadow: 0px 1px 3px 1px rgba(0, 0, 0, 0.15);\n",
              "      filter: drop-shadow(0px 1px 2px rgba(0, 0, 0, 0.3));\n",
              "      fill: #FFFFFF;\n",
              "    }\n",
              "  </style>\n",
              "\n",
              "      <script>\n",
              "        const buttonEl =\n",
              "          document.querySelector('#df-e186ef75-5b1f-4a6c-b240-8337356bdadf button.colab-df-convert');\n",
              "        buttonEl.style.display =\n",
              "          google.colab.kernel.accessAllowed ? 'block' : 'none';\n",
              "\n",
              "        async function convertToInteractive(key) {\n",
              "          const element = document.querySelector('#df-e186ef75-5b1f-4a6c-b240-8337356bdadf');\n",
              "          const dataTable =\n",
              "            await google.colab.kernel.invokeFunction('convertToInteractive',\n",
              "                                                     [key], {});\n",
              "          if (!dataTable) return;\n",
              "\n",
              "          const docLinkHtml = 'Like what you see? Visit the ' +\n",
              "            '<a target=\"_blank\" href=https://colab.research.google.com/notebooks/data_table.ipynb>data table notebook</a>'\n",
              "            + ' to learn more about interactive tables.';\n",
              "          element.innerHTML = '';\n",
              "          dataTable['output_type'] = 'display_data';\n",
              "          await google.colab.output.renderOutput(dataTable, element);\n",
              "          const docLink = document.createElement('div');\n",
              "          docLink.innerHTML = docLinkHtml;\n",
              "          element.appendChild(docLink);\n",
              "        }\n",
              "      </script>\n",
              "    </div>\n",
              "  </div>\n",
              "  "
            ]
          },
          "metadata": {},
          "execution_count": 45
        }
      ]
    },
    {
      "cell_type": "code",
      "source": [
        "with open('movies.csv', mode='a') as file:\n",
        "            movie_writer = csv.writer(file, delimiter=',', quotechar='\"', quoting=csv.QUOTE_MINIMAL)\n",
        "            if all([movie_name, year, time, votes]):\n",
        "                print(movie_name, year, time, votes)\n",
        "                movie_writer.writerow([movie_name, year, time, votes])"
      ],
      "metadata": {
        "colab": {
          "base_uri": "https://localhost:8080/"
        },
        "id": "KJieQMDxUQCf",
        "outputId": "503a316a-2561-49b5-ea22-dac90eff1faf"
      },
      "execution_count": null,
      "outputs": [
        {
          "output_type": "stream",
          "name": "stdout",
          "text": [
            "['The Shawshank Redemption', 'The Godfather', 'K.G.F: Chapter 2', 'The Dark Knight', 'The Lord of the Rings: The Return of the King', \"Schindler's List\", 'The Godfather: Part II', 'De 12 gezworenen', 'Jai Bhim', 'Pulp Fiction', 'Everything Everywhere All at Once', 'Inception', 'The Lord of the Rings: The Two Towers', 'Fight Club', 'The Lord of the Rings: The Fellowship of the Ring', 'Forrest Gump', 'The Good, the Bad and the Ugly', 'Soorarai Pottru', 'The Matrix', 'Goodfellas', 'Star Wars: Episode V - The Empire Strikes Back', \"One Flew Over the Cuckoo's Nest\", 'Interstellar', 'Cidade de Deus', 'Spirited Away', 'Saving Private Ryan', 'The Green Mile', 'Het leven is mooi', 'Seven', 'Terminator 2: Judgment Day', 'The Silence of the Lambs', 'De sterrenoorlogen', 'Seppuku', 'Shichinin no samurai', \"It's a Wonderful Life\", 'Asuran', 'Gisaengchung', 'Whiplash', 'The Intouchables', 'Sardar Udham', 'The Prestige', 'The Departed', 'The Pianist', 'Gladiator', 'American History X', 'The Usual Suspects', 'Léon', 'The Lion King', 'Nuovo Cinema Paradiso', 'Hotaru no haka', 'Terug naar de toekomst', 'Apocalypse Now', 'Alien', 'Once Upon a Time in the West', 'Psycho', 'Rear Window', 'Casablanca', 'Modern Times', 'City Lights', 'Hamilton', 'Capharnaüm', 'RRR', 'Joker', '96', 'Kimi no na wa.', 'Spider-Man: Een nieuw universum', 'Avengers: Endgame', 'Avengers: Infinity War', 'Coco', 'Django Unchained', 'The Dark Knight Rises', 'Drishyam 2', '3 Idiots', 'Spider-Man: No Way Home', 'Shershaah', 'WALL·E', 'Das Leben der Anderen', 'Oldeuboi', 'Memento', 'American Beauty', 'Mononoke-hime', 'Braveheart', 'Idi i smotri', 'Aliens', 'Amadeus', 'Indiana Jones and the Raiders of the Lost Ark', 'Das Boot', 'The Shining', 'Tengoku to jigoku', 'Dr. Strangelove or: How I Learned to Stop Worrying and Love the Bomb', 'Witness for the Prosecution', 'Het veld van eer', 'Sunset Boulevard', 'De dictator', 'Ratsasan', 'Ayla: The Daughter of War', 'Dangal', 'Drishyam', 'Jagten', 'A Separation', 'Incendies', 'Up', 'The Father', 'Taare Zameen Par', 'Toy Story 3', 'Inglourious Basterds', 'Eternal Sunshine of the Spotless Mind', \"Le fabuleux destin d'Amélie Poulain\", 'Snatch', 'Requiem for a Dream', 'L.A. Confidential', 'Good Will Hunting', 'Toy Story', 'Heat', 'Reservoir Dogs', 'Full Metal Jacket', 'Once Upon a Time in America', 'Scarface', 'Star Wars: Episode VI - Return of the Jedi', 'Taxi Driver', 'The Sting', 'A Clockwork Orange', '2001: Een zwerftocht in de ruimte', 'To Kill a Mockingbird', 'Lawrence of Arabia', 'Oordeel te Neurenberg', 'Het appartement', 'North by Northwest', 'Vertigo', 'Pather Panchali', \"Singin' in the Rain\", 'Ikiru', 'Ladri di biciclette', 'Double Indemnity', 'Citizen Kane', 'M - Eine Stadt sucht einen Mörder', 'Metropolis', 'The Kid', 'Chhichhore', '1917', 'Uri: The Surgical Strike', 'Tumbbad', 'Andhadhun', 'K.G.F: Chapter 1', 'Green Book', 'Vikram Vedha', 'Baahubali 2: The Conclusion', 'Drishyam', 'Bhaag Milkha Bhaag', 'Binnenstebuiten', 'Gangs of Wasseypur', 'Paan Singh Tomar', 'El secreto de sus ojos', 'Warrior', 'Shutter Island', 'Kimetsu no Yaiba: Mugen Ressha-Hen', 'Miracle in Cell No. 7', 'Article 15', 'The Wolf of Wall Street', 'No Country for Old Men', 'Babam ve Oglum', 'There Will Be Blood', \"Pan's Labyrinth\", 'V for Vendetta', 'Batman Begins', 'Der Untergang', 'Hauru no ugoku shiro', 'A Beautiful Mind', 'Kill Bill: Vol. 1', 'Finding Nemo', 'The Sixth Sense', 'Lock, Stock and Two Smoking Barrels', 'The Truman Show', 'Bacheha-Ye aseman', 'Casino', 'Jurassic Park', 'Unforgiven', 'Indiana Jones and the Last Crusade', 'Die Hard', 'Ran', 'The Thing', 'Raging Bull', 'The Elephant Man', 'Monty Python and the Holy Grail', 'Dersu Uzala', 'Chinatown', 'Z', 'For a Few Dollars More', 'The Great Escape', 'Yôjinbô', 'Some Like It Hot', 'The Bridge on the River Kwai', 'Dial M for Murder', 'Tôkyô monogatari', 'Het loon van de Angst', 'Rashômon', 'All About Eve', 'The Treasure of the Sierra Madre', 'Spionnage in het spel', 'Gejaagd door de wind', \"La passion de Jeanne d'Arc\", 'The General', 'The Gold Rush', 'Sherlock Jr.', 'Portrait de la jeune fille en feu', 'Pink', 'Koe no katachi', 'Three Billboards Outside Ebbing, Missouri', 'Talvar', 'Klaus', 'Masaan', 'Ah-ga-ssi', 'Bajrangi Bhaijaan', 'Haider', 'Queen', 'Logan', 'Room', 'Relatos salvajes', 'Mandariinid', 'Kis Uykusu', 'PK', 'OMG: Oh My God!', 'The Grand Budapest Hotel', 'Gone Girl', 'Ôkami kodomo no Ame to Yuki', 'Hacksaw Ridge', 'Barfi!', '12 Years a Slave', 'Rush', \"Le Mans '66\", 'Spotlight', 'Kahaani', 'Udaan', 'Zindagi Na Milegi Dobara', 'The Help', 'Prisoners', 'Mad Max: Fury Road', 'A Wednesday', 'Gran Torino', 'Harry Potter and the Deathly Hallows: Part 2', 'Dune', 'Hachi', 'Mary and Max.', 'How to Train Your Dragon', 'Chak De! India', 'Into the Wild', 'Rang De Basanti', 'Million Dollar Baby', 'Hotel Rwanda', 'Ratatouille', 'Before Sunset', 'Black', 'Munna Bhai M.B.B.S.', 'Swades: We, the People', 'Salinui chueok', 'Dil Chahta Hai', 'Catch Me If You Can', 'Amores perros', 'Hera Pheri', 'Sarfarosh', 'Monsters, Inc.', 'Lagaan: Once Upon a Time in India', 'Festen', 'The Big Lebowski', 'Trainspotting', 'Fargo', 'Eskiya', 'Underground', 'La haine', 'Before Sunrise', 'Trois couleurs: Rouge', 'In the Name of the Father', 'Groundhog Day', 'Ba wang bie ji', 'Da hong deng long gao gao gua', 'Dom za vesanje', 'Dead Poets Society', 'Tonari no Totoro', 'Stand by Me', 'Platoon', 'Jean de Florette', 'De uitroeier', 'Gandhi', 'Fanny och Alexander', 'Blade Runner', 'Stalker', 'Höstsonaten', 'The Deer Hunter', 'Rocky', 'Network', 'The Message', 'Sholay', 'De zomer van de witte haai', 'Barry Lyndon', 'Paper Moon', 'The Exorcist', 'Anand', 'Cool Hand Luke', 'Persona', 'The Sound of Music', 'De slag om Algiers', 'The Man Who Shot Liberty Valance', 'Jungfrukällan', 'Inherit the Wind', 'Les quatre cents coups', 'Ben Hur', 'Kakushi-toride no san-akunin', 'Smultronstället', 'Det sjunde inseglet', 'Le notti di Cabiria', 'Kumonosu-jô', 'Du rififi chez les hommes', 'On the Waterfront', 'Demonen', 'Het grote carnaval', 'White Heat', 'The Third Man', 'The Red Shoes', 'De beste jaren van ons leven', 'The Shop Around the Corner', 'Rebecca', 'The Grapes of Wrath', 'The Wizard of Oz', 'Mr. Smith Goes to Washington', 'La Grande Illusion', \"Het gebeurde op 'n avond\", 'All Quiet on the Western Front', 'The Circus', 'Sunrise: A Song of Two Humans', 'Badhaai ho', 'Wolfwalkers', 'Contratiempo', 'La La Land', 'Lion', 'The Martian', 'Mommy', 'Soul', 'Zootropolis', 'Bãhubali: The Beginning', 'Kaguya-hime no monogatari', 'Special Chabbis', 'The Imitation Game', 'Guardians of the Galaxy', 'X-Men: Days of Future Past', 'The Batman', 'Het lied van de zee', 'Blade Runner 2049', 'Her', 'The Revenant', 'The Perks of Being a Wallflower', 'Tropa de Elite 2: O Inimigo Agora é Outro', \"The King's Speech\", 'Deadpool', \"Zack Snyder's Justice League\", 'Ip Man', 'Okuribito', 'CODA', 'Slumdog Millionaire', 'Black Swan', 'Tropa de Elite', 'The Avengers', 'Persepolis', 'Lage Raho Munna Bhai', 'The Pursuit of Happyness', 'Blood Diamond', 'The Bourne Ultimatum', 'Dare mo shiranai', 'Sin City', 'The Diving Bell and the Butterfly', 'Taegukgi hwinalrimyeo', 'G.O.R.A.', 'Casino Royale', 'Kill Bill: Vol. 2', 'Spring, Summer, Fall, Winter... and Spring', 'Mar adentro', 'Cinderella Man', 'Mou gaan dou', 'Pirates of the Caribbean: The Curse of the Black Pearl', 'Big Fish', 'The Incredibles', 'Yeopgijeogin geunyeo', 'Dogville', 'Vizontele', 'Donnie Darko', 'Magnolia', 'Shin seiki Evangelion Gekijô-ban: Air/Magokoro wo, kimi ni', 'The Straight Story', 'Pâfekuto burû', 'Central do Brasil', 'De IJzeren reus', \"La leggenda del pianista sull'oceano\", 'Crna macka, beli macor', 'Fa yeung nin wah', 'Sling Blade', 'Secrets and Lies', '12 Monkeys', 'Dilwale Dulhania Le Jayenge', 'Chung Hing sam lam', 'Andaz Apna Apna', 'Scent of a Woman', 'Aladdin', 'JFK', 'Belle en het Beest', 'Dances with Wolves', 'Rain Man', 'Akira', 'The Princess Bride', 'Der Himmel über Berlin', 'Au revoir les enfants', 'Tenkû no shiro Rapyuta', 'Paris, Texas', 'Kaze no tani no Naushika', 'Nostalgia', 'Pink Floyd: The Wall', 'Fitzcarraldo', \"Monty Python's Life of Brian\", 'Being There', 'Annie Hall', 'Dog Day Afternoon', 'Zerkalo', 'Young Frankenstein', 'Papillon', 'Schreeuw zonder antwoord', 'Solaris', 'Sleuth', 'The Last Picture Show', 'Fiddler on the Roof', 'Butch Cassidy and the Sundance Kid', \"Rosemary's Baby\", 'Apenplaneet', 'Le Samouraï', 'The Graduate', 'Wie is bang voor Virginia Woolf?', 'Andrei Rublev', 'Il gattopardo', '8½', 'El ángel exterminador', 'Wat is er toch van Baby Jane terechtgekomen?', 'Sanjuro', 'Ivanovo detstvo', 'The Hustler', 'La dolce vita', 'Rio Bravo', 'Anatomy of a Murder', 'Touch of Evil', 'Kat op een heet zinken dak', 'Sweet Smell of Success', 'The Killing', 'The Night of the Hunter', 'La Strada', 'Stalag 17', 'Roman Holiday', 'Klokslag 12', 'Kind Hearts and Coronets', 'Gangsters vergeten niet', 'Roma città aperta', 'Mildred Pierce', 'Brief Encounter', 'The Maltese Falcon', 'Bronenosets Potemkin', 'Das Cabinet des Dr. Caligari', 'Knives Out', 'Manbiki kazoku', 'Marriage Story', 'Super 30', 'Padman', 'Togo', 'Airlift', 'M.S. Dhoni: The Untold Story', 'Baby', 'Sing Street', 'Thor: Ragnarok', 'Jojo Rabbit', 'Wonder', 'Arrival', 'Gully Boy', 'Short Term 12', 'Serbuan maut 2: Berandal', 'Before Midnight', 'Bohemian Rhapsody', 'The Artist', 'Edge of Tomorrow', 'Amour', 'Darbareye Elly', 'Dev.D', 'My Name Is Khan', 'De ademtocht', 'Låt den rätte komma in', 'District 9', 'The Wrestler', 'Jab We Met', 'Boyhood', 'The Worst Person in the World', '4 luni, 3 saptamâni si 2 zile', 'Star Trek: The Future Begins', 'Dallas Buyers Club', 'In Bruges', 'The Man from Earth', 'Letters from Iwo Jima', 'Life of Pi', 'Fantastic Mr. Fox', 'Bin-jip', 'C.R.A.Z.Y.', 'Vozvrashchenie', 'Iron Man', 'Shaun of the Dead', 'Kal Ho Naa Ho', 'Gegen die Wand', 'Mystic River', 'Harry Potter en de gevangene van Azkaban', 'Hero', 'Hable con ella', \"No Man's Land\", 'The Bourne Identity', 'Nueve reinas', 'Children of Men', 'Wo hu cang long', 'Almost Famous', 'Dancer in the Dark', 'Mulholland Drive', 'Shrek', 'Toy Story 2', 'Titanic', \"Knockin' on Heaven's Door\", 'Boogie Nights', 'Mimi wo sumaseba', 'Kôkaku Kidôtai', 'Once Were Warriors', 'True Romance', 'Trois couleurs: Bleu', 'The Nightmare Before Christmas', \"Carlito's Way\", 'Bound by Honor', 'Edward Scissorhands', 'My Left Foot: The Story of Christy Brown', 'Do the Right Thing', 'The Untouchables', 'Sacrifice', 'Hannah and Her Sisters', 'Brazil', 'This Is Spinal Tap', 'A Christmas Story', 'E.T. the Extra-Terrestrial', 'Kagemusha', 'The Blues Brothers', 'Manhattan', \"All the President's Men\", 'Amarcord', 'Aguirre, der Zorn Gottes', 'Harold and Maude', 'Patton', 'Il conformista', 'The Wild Bunch', 'Leeuw in de winter', 'De Nacht van Inspecteur Tibbs', 'In Cold Blood', 'Doctor Zhivago', 'A Fistfull of Dollars', 'Charade', 'Vivre sa vie: Film en douze tableaux', 'The Manchurian Candidate', 'Spartacus', 'Hiroshima mon amour', 'De Tien Geboden', 'The Searchers', 'Tot het bittere einde', 'A Streetcar Named Desire', 'De maniak', 'Vreemde ontmoeting', 'Harvey', 'Rope', 'Miracle on 34th Street', 'Notorious', 'The Big Sleep', 'La belle et la bête', 'The Lost Weekend', 'Laura', 'Arsenicum en oude kant', \"Sullivan's Travels\", 'De bronzen godin', 'La règle du jeu', 'The Adventures of Robin Hood', 'The Thin Man', 'King Kong', 'Freaks', 'Nosferatu', 'The Gentlemen', 'Doragon bôru chô: Burorî', 'Hindi Medium', 'Call Me by Your Name', 'I, Daniel Blake', 'Isle of Dogs', 'Dunkirk', 'Hidden Figures', 'Hunt for the Wilderpeople', 'Paddington 2', 'Kubo en het Magische Zwaard', 'Manchester by the Sea', 'Under sandet', 'Star Wars: Rogue One', 'Captain Fantastic', 'Captain America: Civil War', 'The Hateful Eight', 'Little Women', 'Loving Vincent', 'Pride', 'Nightcrawler', 'Star Wars: Episode VII - The Force Awakens', 'The Lunchbox', 'Vicky Donor', 'Baymax', 'About Time', 'English Vinglish', 'La migliore offerta', 'Captain America: The Winter Soldier', \"Bir Zamanlar Anadolu'da\", 'Moonrise Kingdom', 'Hoe Tem Je Een Draak 2', 'The Big Short', 'Ang-ma-reul bo-at-da', 'The Girl with the Dragon Tattoo', 'Captain Phillips', 'Straight Outta Compton', 'The Irishman', 'The Social Network', 'Un prophète', 'Madeo', 'Chugyeokja', 'Moon', 'De Hobbit: de Woestenij van Smaug', 'Das weiße Band - Eine deutsche Kindergeschichte', 'Män som hatar kvinnor', 'The Northman', 'Skyfall', 'The Fighter', 'Taken', 'Once', 'De Hobbit: Een onverwachte reis', 'Changeling', 'Atonement', 'Drive', 'American Gangster', 'Avatar', 'Mr. Nobody', 'Apocalypto', 'The Fall', 'Little Miss Sunshine', 'Hot Fuzz', 'The Curious Case of Benjamin Button', 'Veer-Zaara', 'Pride & Prejudice', \"Burt Munro: The World's Fastest Indian\", 'Tôkyô goddofâzâzu', 'Serenity', 'Crash', 'Les choristes', 'Walk the Line', 'The Notebook', 'The Last Samurai', 'The Motorcycle Diaries', 'Lilja 4-ever', 'Sennen joyû', 'Cowboy Bebop: Tengoku no tobira', 'Gongdong gyeongbi guyeok JSA', 'Remember the Titans', 'Todo sobre mi madre', 'Cast Away', 'The Insider', 'October Sky', 'Being John Malkovich', 'Gattaca', 'Hamlet', 'Breaking the Waves', 'Ed Wood', 'Tombstone', 'The Sandlot', 'The Remains of the Day', 'Jûbê ninpûchô', 'The Fugitive', 'A Bronx Tale', 'Batman: Mask of the Phantasm', 'Boyz n the Hood', 'Misery', 'Awakenings', \"Kiki's vliegende koeriersdienst\", 'Glory', 'The Killer', 'Crimes and Misdemeanors', 'Back to the Future Part II', 'Mississippi Burning', 'Predator', \"Ferris Bueller's Day Off\", 'The Breakfast Club', 'The Killing Fields', 'Ghostbusters', 'The Right Stuff', 'The King of Comedy', 'Kramer vs. Kramer', 'All That Jazz', 'Days of Heaven', 'Dawn of the Dead', 'The Outlaw Josey Wales', 'The Man Who Would Be King', 'La montaña sagrada', 'The Conversation', 'The Day of the Jackal', 'Le charme discret de la bourgeoisie', 'Willy Wonka & the Chocolate Factory', 'Midnight Cowboy', 'Night of the Living Dead', \"Guess Who's Coming to Dinner\", 'Les parapluies de Cherbourg', 'My Fair Lady', 'Mary Poppins', 'The Innocents', \"L'avventura\", 'Ten oosten van Eden', 'Toen stond de aarde stil', 'Asphalt jungle', 'Red River', 'Avontuur op Martinique', 'Gaslicht', 'Shadow of a Doubt', 'His Girl Friday', 'Stagecoach', \"You Can't Take It with You\", 'The Lady Vanishes', 'Bringing Up Baby', 'A Night at the Opera', 'Bride of Frankenstein', 'De dictator', 'Frankenstein', 'Roma', 'Deadpool 2', 'Sound of Metal', 'Wind River', 'Forushande', 'Get Out', 'Mission: Impossible - Fallout', 'Perfetti sconosciuti', 'Udta Punjab', 'Een man die Ove heet', 'Omoide no Mânî', 'The Theory of Everything', 'Kingsman: The Secret Service', 'The Fault in Our Stars', 'Me and Earl and the Dying Girl', 'Birdman or (The Unexpected Virtue of Ignorance)', 'Le passé', 'La grande bellezza', \"La vie d'Adèle\", 'The Broken Circle Breakdown', 'Kaze tachinu', 'Toy Story 4', 'Nebraska', 'Suikerkoorts', 'Le Petit Prince', 'Detachment', 'Midnight in Paris', 'Kokuhaku', 'Ajeossi', 'De Lego Film', 'Gravity', 'Star Trek: Into Darkness', 'Beasts of No Nation', 'X-Men: First Class', 'The Hangover', 'The Trial of the Chicago 7', 'Silver Linings Playbook', 'Druk', 'Argo', '(500) Days of Summer', 'Harry Potter and the Deathly Hallows: Part 1', 'The Boy in the Striped Pyjamas', 'Auf der anderen Seite', 'Frost/Nixon', 'Paprika', 'Flipped', 'Toki o kakeru shôjo', 'This Is England', 'Ex Machina', 'Efter brylluppet', 'The Last King of Scotland', 'Zodiac', 'Lucky Number Slevin', 'Joyeux Noël', 'Control', 'Adams æbler', 'Rapunzel', 'Zwartboek', 'Brokeback Mountain', '3:10 to Yuma', 'Kung fu', 'The Bourne Supremacy', 'The Machinist', 'Ray', 'Ondskan', 'Lost in Translation', 'Harry Potter en de vuurbeker', 'Man on Fire', 'Coraline', 'The Magdalene Sisters', '21 Grams', 'Finding Neverland', 'Good Bye Lenin!', 'In America', 'Les triplettes de Belleville', 'Adaptation.', 'Black Hawk Down', 'Road to Perdition', 'Das Experiment', 'Billy Elliot', 'Hedwig and the Angry Inch', 'The Count of Monte Cristo', 'Y tu mamá también', 'Waking Life', \"Ocean's Eleven\", 'O Brother, Where Art Thou?', 'Minority Report', 'South Park: Bigger, Longer & Uncut', 'Office Space', 'Happiness', 'The Boondock Saints', 'Training Day', 'Lola rennt', 'Abre los ojos', \"Ta'm e guilass\", 'As Good as It Gets', 'Hana-bi', 'The Game', 'Donnie Brasco', 'Chun gwong cha sit', 'Shine', 'Primal Fear', 'Sense and Sensibility', 'Apollo 13', 'Il postino', 'Clerks', \"What's Eating Gilbert Grape?\", 'Short Cuts', 'Philadelphia', 'Naked', 'The Muppet Christmas Carol', 'Malcolm X', 'The Last of the Mohicans', 'Hard Boiled', 'Kurenai no buta', 'Glengarry Glen Ross', 'A Few Good Men', 'Night on Earth', 'Fried Green Tomatoes', 'La double vie de Véronique', 'Yume', \"Miller's Crossing\", 'Home Alone', 'When Harry Met Sally...', 'Who Framed Roger Rabbit', 'Spoorloos', 'The Last Emperor', 'Evil Dead II', 'Empire of the Sun', 'The Name of the Rose', 'Down by Law', 'Blue Velvet', 'The Purple Rose of Cairo', 'The Goonies', 'The Color Purple', 'Zelig', 'The Verdict', 'Star Trek II: The Wrath of Khan', 'First Blood', 'Ordinary People', 'Airplane!', 'Halloween', 'Nashville', 'Love and Death', 'Blazing Saddles', 'Serpico', 'La planète sauvage', 'Badlands', 'Deliverance', 'Cabaret', 'The French Connection', 'Dirty Harry', 'Wait Until Dark', 'The Dirty Dozen', 'Bonnie and Clyde', 'Belle de jour', 'A Man for All Seasons', 'Zulu', 'Goldfinger', 'The Birds', 'The Longest Day', 'Cape Fear', 'Jules et Jim', 'The Magnificent Seven', 'Liefde zonder uitzicht', 'Invasion of the Body Snatchers', 'Botsende jeugd', 'Muiterij op de Caine', 'Een yankee in Ierland', 'The African Queen', 'Key Largo', 'Fantasia', 'Scarface', 'Dark Waters', 'The Mitchells vs the Machines', 'Searching', 'Once Upon a Time in... Hollywood', 'Guardians of the Galaxy Vol. 2', 'Baby Driver', 'Bridge of Spies', 'Incredibles 2', 'Vaiana', 'What We Do in the Shadows', 'Sicario', 'Creed', 'Leviafan', 'Hell or High Water', 'Philomena', 'Dawn of the Planet of the Apes', 'The Raid', 'End of Watch', '127 Hours', 'A Star Is Born', 'Drive My Car', 'True Grit', 'Despicable Me', 'Rise of the Planet of the Apes', '50/50', 'Kick-Ass', 'Celda 211', 'Moneyball', 'La piel que habito', 'Zombieland', 'The Blind Side', 'Ponyo', 'Superbad', 'Seven Pounds', 'Eastern Promises', 'Stardust', 'United 93', 'Inside Man', 'Gone Baby Gone', 'Kung Fu Panda', '300', 'Match Point', 'Watchmen', 'Lord of War', 'Saw', 'Vera Drake', 'Mysterious Skin', 'Un long dimanche de fiançailles', 'The Station Agent', 'Love Actually', '25th Hour', 'The Butterfly Effect', 'I Am Sam', 'Batoru rowaiaru', 'The Royal Tenenbaums', 'Harry Potter en de steen der wijzen', 'The Others', 'Traffic', 'American Psycho', 'Rushmore', 'Star Wars: Episode III - Revenge of the Sith', 'The Thin Red Line', 'Mulan', 'The Fifth Element', 'Le dîner de cons', 'Dark City', 'Die Hard: With a Vengeance', 'The Bridges of Madison County', 'Trois couleurs: Blanc', 'Falling Down', 'My Cousin Vinny', 'Barton Fink', 'The Godfather: Part III', 'The Little Mermaid', 'The Naked Gun: From the Files of Police Squad!', 'RoboCop', 'Lethal Weapon', 'The Fly', 'After Hours', 'Mad Max 2', 'Close Encounters of the Third Kind', 'The Taking of Pelham One Two Three', 'In de klauwen van de draak', 'Where Eagles Dare', 'The Odd Couple', 'The Jungle Book', 'Repulsion', \"Breakfast at Tiffany's\", 'Het raadsel van de verdwenen vrouwen', 'Les yeux sans visage', 'Sabrina', 'From Here to Eternity', 'Sneeuwwitje en de zeven dwergen', 'Het complot der 39 stappen', 'De onzichtbare man'] ['(1994)', '(1972)', '(2022)', '(2008)', '(2003)', '(1993)', '(1974)', '(1957)', '(2021)', '(1994)', '(2022)', '(2010)', '(2002)', '(1999)', '(2001)', '(1994)', '(1966)', '(2020)', '(1999)', '(1990)', '(1980)', '(1975)', '(2014)', '(2002)', '(2001)', '(1998)', '(1999)', '(1997)', '(1995)', '(1991)', '(1991)', '(1977)', '(1962)', '(1954)', '(1946)', '(2019)', '(2019)', '(2014)', '(2011)', '(2021)', '(2006)', '(2006)', '(2002)', '(2000)', '(1998)', '(1995)', '(1994)', '(1994)', '(1988)', '(1988)', '(1985)', '(1979)', '(1979)', '(1968)', '(1960)', '(1954)', '(1942)', '(1936)', '(1931)', '(2020)', '(2018)', '(2022)', '(I) (2019)', '(II) (2018)', '(2016)', '(2018)', '(2019)', '(2018)', '(I) (2017)', '(2012)', '(2012)', '(2021)', '(2009)', '(2021)', '(2021)', '(2008)', '(2006)', '(2003)', '(2000)', '(1999)', '(1997)', '(1995)', '(1985)', '(1986)', '(1984)', '(1981)', '(1981)', '(1980)', '(1963)', '(1964)', '(1957)', '(1957)', '(1950)', '(1940)', '(2018)', '(2017)', '(2016)', '(2013)', '(2012)', '(2011)', '(2010)', '(2009)', '(I) (2020)', '(2007)', '(2010)', '(2009)', '(2004)', '(2001)', '(2000)', '(2000)', '(1997)', '(1997)', '(1995)', '(1995)', '(1992)', '(1987)', '(1984)', '(1983)', '(1983)', '(1976)', '(1973)', '(1971)', '(1968)', '(1962)', '(1962)', '(1961)', '(1960)', '(1959)', '(1958)', '(1955)', '(1952)', '(1952)', '(1948)', '(1944)', '(1941)', '(1931)', '(1927)', '(1921)', '(2019)', '(2019)', '(2019)', '(2018)', '(2018)', '(2018)', '(2018)', '(2017)', '(2017)', '(2015)', '(2013)', '(I) (2015)', '(2012)', '(2012)', '(2009)', '(2011)', '(2010)', '(2020)', '(2019)', '(2019)', '(2013)', '(2007)', '(2005)', '(2007)', '(2006)', '(2005)', '(2005)', '(2004)', '(2004)', '(2001)', '(2003)', '(2003)', '(1999)', '(1998)', '(1998)', '(1997)', '(1995)', '(1993)', '(1992)', '(1989)', '(1988)', '(1985)', '(1982)', '(1980)', '(1980)', '(1975)', '(1975)', '(1974)', '(1969)', '(1965)', '(1963)', '(1961)', '(1959)', '(1957)', '(1954)', '(1953)', '(1953)', '(1950)', '(1950)', '(1948)', '(1942)', '(1939)', '(1928)', '(1926)', '(1925)', '(1924)', '(2019)', '(III) (2016)', '(2016)', '(2017)', '(2015)', '(2019)', '(2015)', '(2016)', '(2015)', '(2014)', '(2013)', '(2017)', '(I) (2015)', '(2014)', '(2013)', '(2014)', '(2014)', '(2012)', '(2014)', '(2014)', '(2012)', '(2016)', '(2012)', '(2013)', '(I) (2013)', '(2019)', '(I) (2015)', '(2012)', '(2010)', '(2011)', '(2011)', '(2013)', '(2015)', '(2008)', '(2008)', '(2011)', '(2021)', '(2009)', '(2009)', '(2010)', '(2007)', '(2007)', '(2006)', '(2004)', '(2004)', '(2007)', '(2004)', '(2005)', '(2003)', '(2004)', '(2003)', '(2001)', '(2002)', '(2000)', '(2000)', '(1999)', '(2001)', '(2001)', '(1998)', '(1998)', '(1996)', '(1996)', '(1996)', '(1995)', '(1995)', '(1995)', '(1994)', '(1993)', '(1993)', '(1993)', '(1991)', '(1988)', '(1989)', '(1988)', '(1986)', '(1986)', '(1986)', '(1984)', '(1982)', '(1982)', '(1982)', '(1979)', '(1978)', '(1978)', '(1976)', '(1976)', '(1976)', '(1975)', '(1975)', '(1975)', '(1973)', '(1973)', '(1971)', '(1967)', '(1966)', '(1965)', '(1966)', '(1962)', '(1960)', '(1960)', '(1959)', '(1959)', '(1958)', '(1957)', '(1957)', '(1957)', '(1957)', '(1955)', '(1954)', '(1955)', '(1951)', '(1949)', '(1949)', '(1948)', '(1946)', '(1940)', '(1940)', '(1940)', '(1939)', '(1939)', '(1937)', '(1934)', '(1930)', '(1928)', '(1927)', '(2018)', '(2020)', '(2016)', '(2016)', '(2016)', '(2015)', '(I) (2014)', '(2020)', '(2016)', '(2015)', '(2013)', '(2013)', '(2014)', '(2014)', '(2014)', '(2022)', '(2014)', '(2017)', '(2013)', '(2015)', '(2012)', '(2010)', '(2010)', '(2016)', '(2021)', '(2008)', '(2008)', '(2021)', '(2008)', '(2010)', '(2007)', '(2012)', '(2007)', '(2006)', '(2006)', '(2006)', '(2007)', '(2004)', '(2005)', '(2007)', '(2004)', '(2004)', '(2006)', '(2004)', '(2003)', '(I) (2004)', '(2005)', '(2002)', '(2003)', '(2003)', '(2004)', '(2001)', '(2003)', '(2001)', '(2001)', '(1999)', '(1997)', '(1999)', '(1997)', '(1998)', '(1999)', '(1998)', '(1998)', '(2000)', '(1996)', '(1996)', '(1995)', '(1995)', '(1994)', '(1994)', '(1992)', '(1992)', '(1991)', '(1991)', '(1990)', '(1988)', '(1988)', '(1987)', '(1987)', '(1987)', '(1986)', '(1984)', '(1984)', '(1983)', '(1982)', '(1982)', '(1979)', '(1979)', '(1977)', '(1975)', '(1975)', '(1974)', '(1973)', '(1972)', '(1972)', '(1972)', '(1971)', '(1971)', '(1969)', '(1968)', '(1968)', '(1967)', '(1967)', '(1966)', '(1966)', '(1963)', '(1963)', '(1962)', '(1962)', '(1962)', '(1962)', '(1961)', '(1960)', '(1959)', '(1959)', '(1958)', '(1958)', '(1957)', '(1956)', '(1955)', '(1954)', '(1953)', '(1953)', '(1952)', '(1949)', '(1947)', '(1945)', '(1945)', '(1945)', '(1941)', '(1925)', '(1920)', '(2019)', '(2018)', '(2019)', '(2019)', '(2018)', '(2019)', '(2016)', '(2016)', '(I) (2015)', '(2016)', '(2017)', '(2019)', '(I) (2017)', '(II) (2016)', '(2019)', '(2013)', '(2014)', '(2013)', '(2018)', '(I) (2011)', '(2014)', '(2012)', '(2009)', '(2009)', '(2010)', '(2009)', '(2008)', '(2009)', '(2008)', '(2007)', '(I) (2014)', '(2021)', '(2007)', '(2009)', '(2013)', '(2008)', '(2007)', '(2006)', '(2012)', '(2009)', '(2004)', '(2005)', '(2003)', '(2008)', '(2004)', '(2003)', '(2004)', '(2003)', '(2004)', '(2002)', '(2002)', '(I) (2001)', '(2002)', '(2000)', '(2006)', '(2000)', '(2000)', '(2000)', '(2001)', '(2001)', '(1999)', '(1997)', '(1997)', '(1997)', '(1995)', '(1995)', '(1994)', '(1993)', '(1993)', '(1993)', '(1993)', '(1993)', '(1990)', '(1989)', '(1989)', '(1987)', '(1986)', '(1986)', '(1985)', '(1984)', '(1983)', '(1982)', '(1980)', '(1980)', '(1979)', '(1976)', '(1973)', '(1972)', '(1971)', '(1970)', '(1970)', '(1969)', '(1968)', '(1967)', '(1967)', '(1965)', '(1964)', '(1963)', '(1962)', '(1962)', '(1960)', '(1959)', '(1956)', '(1956)', '(1953)', '(1951)', '(1951)', '(1950)', '(1950)', '(1948)', '(1947)', '(1946)', '(1946)', '(1946)', '(1945)', '(1944)', '(1943)', '(1941)', '(1940)', '(1939)', '(1938)', '(1934)', '(1933)', '(1932)', '(1922)', '(2019)', '(2018)', '(2017)', '(2017)', '(2016)', '(2018)', '(2017)', '(2016)', '(2016)', '(2017)', '(2016)', '(2016)', '(2015)', '(2016)', '(2016)', '(2016)', '(2015)', '(2019)', '(2017)', '(I) (2014)', '(2014)', '(2015)', '(2013)', '(2012)', '(2014)', '(I) (2013)', '(2012)', '(2013)', '(2014)', '(2011)', '(2012)', '(2014)', '(2015)', '(2010)', '(2011)', '(2013)', '(2015)', '(2019)', '(2010)', '(2009)', '(2009)', '(2008)', '(2009)', '(2013)', '(2009)', '(2009)', '(2022)', '(2012)', '(I) (2010)', '(I) (2008)', '(I) (2007)', '(2012)', '(2008)', '(2007)', '(I) (2011)', '(2007)', '(2009)', '(2009)', '(2006)', '(2006)', '(2006)', '(2007)', '(2008)', '(2004)', '(2005)', '(2005)', '(2003)', '(2005)', '(I) (2004)', '(2004)', '(2005)', '(2004)', '(2003)', '(2004)', '(2002)', '(2001)', '(2001)', '(2000)', '(2000)', '(1999)', '(2000)', '(1999)', '(1999)', '(1999)', '(1997)', '(1996)', '(1996)', '(1994)', '(1993)', '(1993)', '(1993)', '(1993)', '(1993)', '(1993)', '(1993)', '(1991)', '(1990)', '(1990)', '(1989)', '(1989)', '(1989)', '(1989)', '(1989)', '(1988)', '(1987)', '(1986)', '(1985)', '(1984)', '(1984)', '(1983)', '(1982)', '(1979)', '(1979)', '(1978)', '(1978)', '(1976)', '(1975)', '(1973)', '(1974)', '(1973)', '(1972)', '(1971)', '(1969)', '(1968)', '(1967)', '(1964)', '(1964)', '(1964)', '(1961)', '(1960)', '(1955)', '(1951)', '(1950)', '(1948)', '(1944)', '(1944)', '(1943)', '(1940)', '(1939)', '(1938)', '(1938)', '(1938)', '(1935)', '(1935)', '(1933)', '(1931)', '(2018)', '(2018)', '(2019)', '(2017)', '(2016)', '(I) (2017)', '(2018)', '(2016)', '(2016)', '(2015)', '(2014)', '(2014)', '(2014)', '(2014)', '(2015)', '(2014)', '(2013)', '(2013)', '(2013)', '(2012)', '(2013)', '(2019)', '(2013)', '(2012)', '(2015)', '(2011)', '(2011)', '(2010)', '(2010)', '(2014)', '(2013)', '(2013)', '(2015)', '(2011)', '(2009)', '(2020)', '(2012)', '(2020)', '(2012)', '(2009)', '(2010)', '(2008)', '(2007)', '(2008)', '(2006)', '(I) (2010)', '(2006)', '(2006)', '(2014)', '(2006)', '(2006)', '(2007)', '(2006)', '(2005)', '(2007)', '(2005)', '(2010)', '(2006)', '(2005)', '(2007)', '(2004)', '(2004)', '(2004)', '(I) (2004)', '(2003)', '(2003)', '(2005)', '(2004)', '(2009)', '(2002)', '(2003)', '(2004)', '(2003)', '(2002)', '(2003)', '(2002)', '(2001)', '(2002)', '(2001)', '(2000)', '(2001)', '(2002)', '(2001)', '(2001)', '(2001)', '(2000)', '(2002)', '(1999)', '(1999)', '(1998)', '(1999)', '(2001)', '(1998)', '(1997)', '(1997)', '(1997)', '(1997)', '(1997)', '(1997)', '(1997)', '(1996)', '(1996)', '(1995)', '(I) (1995)', '(1994)', '(1994)', '(1993)', '(1993)', '(1993)', '(1993)', '(1992)', '(1992)', '(1992)', '(1992)', '(1992)', '(1992)', '(1992)', '(1991)', '(1991)', '(1991)', '(1990)', '(1990)', '(1990)', '(1989)', '(1988)', '(1988)', '(1987)', '(1987)', '(1987)', '(1986)', '(1986)', '(1986)', '(1985)', '(1985)', '(1985)', '(1983)', '(1982)', '(1982)', '(1982)', '(1980)', '(1980)', '(1978)', '(1975)', '(1975)', '(1974)', '(1973)', '(1973)', '(1973)', '(1972)', '(1972)', '(1971)', '(1971)', '(1967)', '(1967)', '(1967)', '(1967)', '(1966)', '(1964)', '(1964)', '(1963)', '(1962)', '(1962)', '(1962)', '(1960)', '(1960)', '(1956)', '(1955)', '(1954)', '(1952)', '(1951)', '(1948)', '(1940)', '(1932)', '(2019)', '(2021)', '(III) (2018)', '(2019)', '(2017)', '(2017)', '(2015)', '(2018)', '(I) (2016)', '(2014)', '(2015)', '(II) (2015)', '(2014)', '(II) (2016)', '(2013)', '(2014)', '(2011)', '(2012)', '(2010)', '(2018)', '(2021)', '(2010)', '(2010)', '(2011)', '(2011)', '(2010)', '(2009)', '(2011)', '(2011)', '(2009)', '(2009)', '(2008)', '(2007)', '(2008)', '(2007)', '(2007)', '(2006)', '(2006)', '(2007)', '(2008)', '(2006)', '(2005)', '(2009)', '(2005)', '(2004)', '(2004)', '(2004)', '(2004)', '(2003)', '(2003)', '(2002)', '(2004)', '(2001)', '(2000)', '(2001)', '(2001)', '(2001)', '(2000)', '(2000)', '(1998)', '(2005)', '(1998)', '(1998)', '(1997)', '(1998)', '(1998)', '(1995)', '(1995)', '(1994)', '(1993)', '(1992)', '(1991)', '(1990)', '(1989)', '(1988)', '(1987)', '(1987)', '(1986)', '(I) (1985)', '(1981)', '(1977)', '(1974)', '(1973)', '(1968)', '(1968)', '(1967)', '(1965)', '(1961)', '(1960)', '(1960)', '(1954)', '(1953)', '(1937)', '(1935)', '(1933)'] ['142 min', '175 min', '168 min', '152 min', '201 min', '195 min', '202 min', '96 min', '164 min', '154 min', '139 min', '148 min', '179 min', '139 min', '178 min', '142 min', '161 min', '153 min', '136 min', '145 min', '124 min', '133 min', '169 min', '130 min', '125 min', '169 min', '189 min', '116 min', '127 min', '137 min', '118 min', '121 min', '133 min', '207 min', '130 min', '141 min', '132 min', '106 min', '112 min', '164 min', '130 min', '151 min', '150 min', '155 min', '119 min', '106 min', '110 min', '88 min', '155 min', '89 min', '116 min', '147 min', '117 min', '165 min', '109 min', '112 min', '102 min', '87 min', '87 min', '160 min', '126 min', '187 min', '122 min', '158 min', '106 min', '117 min', '181 min', '149 min', '105 min', '165 min', '164 min', '152 min', '170 min', '148 min', '135 min', '98 min', '137 min', '120 min', '113 min', '122 min', '134 min', '178 min', '142 min', '137 min', '160 min', '115 min', '149 min', '146 min', '143 min', '95 min', '116 min', '88 min', '110 min', '125 min', '170 min', '125 min', '161 min', '160 min', '115 min', '123 min', '131 min', '96 min', '97 min', '165 min', '103 min', '153 min', '108 min', '122 min', '104 min', '102 min', '138 min', '126 min', '81 min', '170 min', '99 min', '116 min', '229 min', '170 min', '131 min', '114 min', '129 min', '136 min', '149 min', '129 min', '218 min', '179 min', '125 min', '136 min', '128 min', '125 min', '103 min', '143 min', '89 min', '107 min', '119 min', '117 min', '153 min', '68 min', '143 min', '119 min', '138 min', '104 min', '139 min', '156 min', '130 min', '147 min', '167 min', '163 min', '186 min', '95 min', '321 min', '135 min', '129 min', '140 min', '138 min', '117 min', '132 min', '130 min', '180 min', '122 min', '112 min', '158 min', '118 min', '132 min', '140 min', '156 min', '119 min', '135 min', '111 min', '100 min', '107 min', '107 min', '103 min', '89 min', '178 min', '127 min', '130 min', '127 min', '132 min', '162 min', '109 min', '129 min', '124 min', '91 min', '142 min', '130 min', '127 min', '132 min', '172 min', '110 min', '121 min', '161 min', '105 min', '136 min', '131 min', '88 min', '138 min', '126 min', '99 min', '238 min', '110 min', '67 min', '95 min', '45 min', '122 min', '136 min', '130 min', '115 min', '132 min', '96 min', '109 min', '145 min', '163 min', '160 min', '146 min', '137 min', '118 min', '122 min', '87 min', '196 min', '153 min', '125 min', '99 min', '149 min', '117 min', '139 min', '151 min', '134 min', '123 min', '152 min', '129 min', '122 min', '134 min', '155 min', '146 min', '153 min', '120 min', '104 min', '116 min', '130 min', '155 min', '93 min', '92 min', '98 min', '153 min', '148 min', '167 min', '132 min', '121 min', '111 min', '80 min', '122 min', '156 min', '210 min', '131 min', '183 min', '141 min', '154 min', '156 min', '174 min', '92 min', '224 min', '105 min', '117 min', '93 min', '98 min', '128 min', '170 min', '98 min', '101 min', '99 min', '133 min', '101 min', '171 min', '125 min', '142 min', '128 min', '86 min', '89 min', '120 min', '120 min', '107 min', '191 min', '188 min', '117 min', '162 min', '99 min', '183 min', '120 min', '121 min', '177 min', '204 min', '124 min', '185 min', '102 min', '122 min', '122 min', '127 min', '85 min', '172 min', '121 min', '123 min', '89 min', '128 min', '99 min', '212 min', '139 min', '91 min', '96 min', '110 min', '110 min', '118 min', '108 min', '117 min', '111 min', '114 min', '104 min', '135 min', '170 min', '99 min', '130 min', '129 min', '102 min', '129 min', '113 min', '105 min', '152 min', '72 min', '94 min', '124 min', '103 min', '106 min', '128 min', '118 min', '144 min', '139 min', '100 min', '108 min', '159 min', '137 min', '144 min', '114 min', '121 min', '132 min', '176 min', '93 min', '164 min', '126 min', '156 min', '103 min', '115 min', '118 min', '108 min', '242 min', '106 min', '130 min', '111 min', '120 min', '108 min', '115 min', '143 min', '96 min', '144 min', '117 min', '143 min', '115 min', '141 min', '124 min', '112 min', '140 min', '127 min', '144 min', '137 min', '103 min', '126 min', '144 min', '101 min', '143 min', '125 min', '115 min', '137 min', '178 min', '110 min', '113 min', '188 min', '87 min', '112 min', '81 min', '108 min', '86 min', '169 min', '127 min', '98 min', '135 min', '136 min', '129 min', '189 min', '102 min', '160 min', '156 min', '90 min', '189 min', '84 min', '181 min', '133 min', '124 min', '98 min', '128 min', '104 min', '125 min', '145 min', '117 min', '125 min', '95 min', '158 min', '94 min', '130 min', '93 min', '125 min', '107 min', '106 min', '151 min', '91 min', '167 min', '138 min', '118 min', '181 min', '110 min', '137 min', '112 min', '105 min', '106 min', '131 min', '205 min', '186 min', '138 min', '95 min', '134 min', '96 min', '95 min', '134 min', '174 min', '141 min', '161 min', '95 min', '108 min', '96 min', '84 min', '92 min', '108 min', '120 min', '118 min', '85 min', '106 min', '97 min', '103 min', '111 min', '86 min', '100 min', '75 min', '76 min', '130 min', '121 min', '137 min', '154 min', '140 min', '113 min', '130 min', '184 min', '159 min', '106 min', '130 min', '108 min', '113 min', '116 min', '154 min', '96 min', '150 min', '109 min', '134 min', '100 min', '113 min', '127 min', '119 min', '144 min', '165 min', '128 min', '114 min', '112 min', '109 min', '138 min', '165 min', '128 min', '113 min', '127 min', '117 min', '107 min', '87 min', '141 min', '127 min', '87 min', '88 min', '129 min', '110 min', '126 min', '99 min', '186 min', '121 min', '138 min', '142 min', '120 min', '112 min', '98 min', '119 min', '114 min', '109 min', '120 min', '122 min', '140 min', '147 min', '90 min', '92 min', '194 min', '87 min', '155 min', '111 min', '83 min', '102 min', '119 min', '94 min', '76 min', '144 min', '180 min', '105 min', '103 min', '120 min', '119 min', '149 min', '107 min', '132 min', '82 min', '93 min', '115 min', '180 min', '133 min', '96 min', '138 min', '123 min', '95 min', '91 min', '172 min', '113 min', '145 min', '134 min', '110 min', '134 min', '197 min', '99 min', '113 min', '80 min', '126 min', '197 min', '90 min', '220 min', '119 min', '89 min', '122 min', '101 min', '94 min', '104 min', '80 min', '96 min', '102 min', '114 min', '96 min', '101 min', '88 min', '118 min', '90 min', '112 min', '110 min', '102 min', '91 min', '100 min', '64 min', '94 min', '113 min', '100 min', '132 min', '132 min', '100 min', '101 min', '106 min', '127 min', '101 min', '103 min', '101 min', '137 min', '100 min', '133 min', '118 min', '147 min', '168 min', '135 min', '94 min', '119 min', '117 min', '138 min', '104 min', '126 min', '102 min', '123 min', '134 min', '131 min', '136 min', '157 min', '94 min', '102 min', '130 min', '144 min', '158 min', '134 min', '147 min', '209 min', '120 min', '155 min', '129 min', '125 min', '97 min', '161 min', '144 min', '152 min', '137 min', '143 min', '116 min', '90 min', '86 min', '169 min', '141 min', '123 min', '100 min', '157 min', '162 min', '141 min', '139 min', '117 min', '101 min', '121 min', '166 min', '192 min', '129 min', '127 min', '90 min', '119 min', '112 min', '97 min', '136 min', '123 min', '154 min', '126 min', '109 min', '87 min', '115 min', '110 min', '113 min', '101 min', '143 min', '157 min', '108 min', '113 min', '106 min', '242 min', '159 min', '127 min', '130 min', '101 min', '134 min', '94 min', '130 min', '121 min', '76 min', '112 min', '107 min', '121 min', '103 min', '122 min', '111 min', '104 min', '108 min', '128 min', '107 min', '103 min', '97 min', '141 min', '105 min', '193 min', '109 min', '105 min', '123 min', '94 min', '127 min', '135 min', '129 min', '114 min', '113 min', '143 min', '102 min', '100 min', '113 min', '96 min', '108 min', '91 min', '170 min', '139 min', '100 min', '144 min', '118 min', '92 min', '112 min', '133 min', '100 min', '114 min', '108 min', '92 min', '96 min', '126 min', '96 min', '102 min', '96 min', '75 min', '69 min', '70 min', '135 min', '119 min', '120 min', '107 min', '124 min', '104 min', '147 min', '96 min', '148 min', '116 min', '103 min', '123 min', '129 min', '126 min', '105 min', '119 min', '130 min', '141 min', '180 min', '111 min', '126 min', '100 min', '115 min', '101 min', '108 min', '98 min', '94 min', '106 min', '119 min', '100 min', '91 min', '132 min', '137 min', '131 min', '100 min', '129 min', '122 min', '117 min', '120 min', '95 min', '146 min', '94 min', '122 min', '122 min', '90 min', '90 min', '98 min', '101 min', '108 min', '120 min', '123 min', '157 min', '110 min', '116 min', '122 min', '94 min', '100 min', '145 min', '134 min', '122 min', '99 min', '108 min', '101 min', '152 min', '113 min', '102 min', '157 min', '146 min', '100 min', '114 min', '124 min', '106 min', '121 min', '105 min', '80 min', '115 min', '144 min', '117 min', '120 min', '110 min', '95 min', '131 min', '106 min', '99 min', '116 min', '107 min', '145 min', '81 min', '89 min', '134 min', '108 min', '122 min', '81 min', '119 min', '95 min', '139 min', '103 min', '129 min', '127 min', '96 min', '105 min', '129 min', '136 min', '140 min', '108 min', '92 min', '118 min', '188 min', '125 min', '131 min', '85 min', '202 min', '112 min', '128 min', '94 min', '100 min', '138 min', '129 min', '130 min', '98 min', '119 min', '115 min', '103 min', '95 min', '104 min', '107 min', '163 min', '84 min', '153 min', '130 min', '107 min', '120 min', '82 min', '114 min', '154 min', '79 min', '129 min', '113 min', '93 min', '124 min', '88 min', '91 min', '160 min', '85 min', '93 min', '130 min', '72 min', '94 min', '109 min', '124 min', '104 min', '102 min', '108 min', '150 min', '111 min', '100 min', '120 min', '138 min', '110 min', '119 min', '178 min', '106 min', '105 min', '128 min', '90 min', '80 min', '111 min', '124 min', '129 min', '105 min', '100 min', '125 min', '93 min', '126 min', '113 min', '102 min', '161 min', '136 min', '113 min', '142 min', '118 min', '107 min', '86 min', '121 min', '133 min', '140 min', '102 min', '98 min', '130 min', '101 min', '109 min', '94 min', '136 min', '179 min', '110 min', '95 min', '105 min', '100 min', '117 min', '113 min', '133 min', '120 min', '88 min', '129 min', '101 min', '113 min', '123 min', '100 min', '127 min', '111 min', '129 min', '114 min', '92 min', '117 min', '124 min', '162 min', '122 min', '103 min', '125 min', '105 min', '133 min', '89 min', '135 min', '135 min', '113 min', '132 min', '114 min', '110 min', '152 min', '101 min', '147 min', '102 min', '93 min', '140 min', '170 min', '88 min', '126 min', '80 min', '100 min', '128 min', '135 min', '92 min', '113 min', '120 min', '116 min', '162 min', '83 min', '85 min', '102 min', '109 min', '96 min', '97 min', '96 min', '138 min', '104 min', '102 min', '158 min', '105 min', '78 min', '105 min', '115 min', '101 min', '90 min', '113 min', '118 min', '83 min', '86 min', '71 min'] ['2,580,024', '1,776,271', '82,867', '2,549,052', '1,773,745', '1,313,661', '1,228,010', '761,967', '187,513', '1,979,524', '28,034', '2,264,322', '1,602,154', '2,030,729', '1,795,190', '1,990,314', '741,119', '109,901', '1,855,202', '1,113,088', '1,247,642', '981,559', '1,724,053', '740,057', '729,984', '1,343,615', '1,254,571', '675,237', '1,582,800', '1,066,080', '1,382,354', '1,319,189', '53,631', '338,433', '444,065', '26,191', '739,195', '806,016', '829,912', '39,028', '1,291,289', '1,283,422', '803,456', '1,450,905', '1,094,734', '1,059,076', '1,124,312', '1,021,776', '254,106', '265,997', '1,157,959', '649,840', '851,973', '322,896', '651,984', '479,804', '558,630', '236,828', '181,298', '86,433', '84,244', '60,515', '1,185,043', '28,482', '248,860', '486,844', '1,044,448', '1,007,926', '474,916', '1,491,582', '1,648,811', '34,734', '385,007', '608,538', '116,604', '1,081,636', '382,679', '560,828', '1,205,257', '1,130,505', '381,078', '1,015,459', '74,536', '698,382', '392,910', '942,059', '246,718', '982,809', '42,583', '479,496', '121,819', '192,969', '217,274', '219,780', '39,216', '38,803', '182,072', '40,284', '318,730', '240,960', '171,557', '1,011,932', '133,784', '188,143', '812,166', '1,391,139', '979,119', '742,357', '835,373', '819,494', '570,590', '935,561', '961,501', '632,686', '988,788', '722,953', '342,148', '809,123', '1,019,338', '794,641', '257,177', '808,545', '650,453', '311,373', '287,498', '76,130', '177,882', '321,115', '393,827', '31,295', '236,595', '76,568', '160,502', '154,052', '433,657', '155,020', '171,299', '124,309', '49,769', '547,074', '58,562', '41,464', '88,967', '71,427', '462,230', '36,772', '91,319', '79,498', '66,736', '685,971', '93,589', '35,881', '206,121', '462,715', '1,254,943', '51,845', '46,838', '32,400', '1,337,164', '939,452', '85,479', '568,550', '655,273', '1,097,436', '1,423,777', '349,772', '378,041', '908,837', '1,081,894', '1,015,305', '967,463', '570,215', '1,033,496', '73,383', '505,045', '943,411', '403,451', '737,073', '855,972', '123,104', '408,624', '345,511', '236,634', '530,677', '28,117', '319,162', '28,136', '251,076', '240,402', '120,638', '261,803', '216,821', '172,138', '60,201', '59,947', '165,197', '129,402', '122,926', '35,890', '309,733', '53,433', '89,720', '109,581', '48,392', '85,499', '44,137', '74,722', '488,894', '34,641', '141,372', '27,414', '137,950', '84,858', '54,388', '65,006', '726,527', '408,037', '193,359', '45,697', '51,025', '179,309', '57,429', '779,268', '949,112', '43,773', '500,199', '80,649', '684,839', '467,753', '364,961', '458,641', '62,189', '44,672', '75,765', '449,128', '677,789', '966,900', '77,895', '760,654', '843,760', '555,532', '277,152', '174,745', '718,380', '79,091', '611,198', '118,075', '674,466', '350,662', '700,900', '256,647', '34,721', '80,213', '89,061', '172,261', '71,145', '936,325', '236,980', '64,977', '25,454', '881,320', '111,946', '85,825', '789,201', '672,879', '662,949', '69,500', '57,964', '167,777', '297,950', '101,368', '171,182', '613,433', '28,134', '32,166', '30,364', '470,788', '326,569', '392,560', '406,034', '25,585', '840,360', '227,683', '63,108', '747,471', '131,202', '33,627', '333,118', '558,973', '156,777', '46,944', '54,971', '581,640', '163,758', '46,782', '391,123', '33,471', '174,320', '115,340', '225,746', '58,962', '74,819', '28,905', '29,840', '115,325', '235,186', '38,423', '105,479', '181,505', '48,232', '51,358', '33,764', '152,523', '65,186', '35,297', '32,390', '169,227', '34,341', '62,978', '32,409', '134,899', '91,467', '389,127', '114,174', '36,208', '102,071', '60,771', '33,287', '50,581', '33,460', '30,243', '170,003', '563,830', '231,762', '826,406', '55,859', '307,792', '480,527', '116,754', '45,032', '55,479', '747,237', '1,136,972', '696,887', '419,665', '57,289', '538,347', '591,119', '776,278', '497,313', '82,367', '670,229', '993,959', '374,994', '221,182', '51,599', '103,406', '832,758', '744,977', '102,771', '1,351,385', '93,647', '46,404', '494,677', '536,167', '626,900', '27,434', '759,756', '107,058', '39,481', '61,787', '643,397', '735,829', '82,048', '81,148', '185,161', '123,391', '1,076,854', '435,387', '707,981', '47,726', '146,751', '36,279', '782,698', '307,515', '51,877', '89,209', '71,622', '39,193', '187,146', '63,295', '53,305', '144,503', '92,951', '42,593', '607,895', '68,196', '77,166', '52,803', '288,333', '401,801', '153,256', '441,123', '259,212', '502,510', '180,747', '420,381', '69,898', '33,462', '162,748', '103,484', '165,950', '26,531', '80,094', '34,415', '392,256', '71,574', '262,433', '252,103', '45,477', '155,417', '128,955', '33,648', '89,546', '47,316', '47,491', '43,051', '213,017', '210,415', '177,150', '50,427', '269,011', '74,346', '52,830', '25,530', '116,293', '32,726', '54,906', '37,655', '35,818', '80,982', '71,907', '61,371', '65,369', '103,371', '48,811', '31,358', '88,461', '87,987', '62,440', '55,288', '136,448', '103,010', '36,966', '36,519', '26,117', '25,486', '39,584', '156,563', '56,980', '62,464', '587,431', '73,568', '293,458', '29,865', '25,297', '46,888', '56,397', '53,514', '56,929', '92,097', '694,206', '366,767', '159,718', '668,013', '38,111', '86,901', '121,525', '153,881', '515,347', '239,574', '654,773', '98,975', '52,758', '30,402', '105,198', '33,456', '214,456', '669,564', '302,133', '51,930', '350,367', '39,622', '59,587', '597,507', '476,854', '413,260', '184,773', '161,122', '616,041', '224,368', '54,521', '32,706', '45,181', '1,024,181', '545,489', '68,004', '53,852', '448,397', '612,870', '179,965', '111,276', '46,797', '537,580', '52,410', '491,446', '265,379', '271,826', '108,456', '347,442', '658,488', '565,127', '1,131,833', '29,977', '259,155', '60,431', '139,997', '33,859', '222,796', '99,821', '326,165', '214,079', '30,923', '476,540', '73,290', '99,932', '302,939', '27,733', '70,834', '198,403', '137,810', '146,165', '398,095', '35,245', '195,461', '138,743', '113,164', '43,054', '56,351', '76,514', '100,929', '29,883', '83,550', '31,200', '75,011', '26,330', '75,615', '212,977', '75,665', '31,129', '74,883', '133,033', '31,428', '70,030', '87,844', '26,397', '106,620', '132,079', '30,903', '55,244', '140,667', '47,341', '99,775', '84,446', '26,198', '36,522', '46,725', '70,004', '26,043', '68,303', '28,680', '50,562', '29,200', '84,391', '45,699', '95,214', '311,339', '26,168', '27,929', '256,687', '59,024', '162,904', '630,478', '222,074', '126,755', '72,956', '126,886', '273,313', '40,293', '604,138', '213,544', '750,793', '577,164', '190,454', '56,733', '55,618', '522,236', '907,644', '55,191', '42,766', '447,010', '336,613', '35,914', '116,971', '813,755', '45,836', '343,432', '326,981', '414,794', '125,820', '454,767', '450,291', '196,885', '370,960', '681,752', '97,834', '61,937', '64,789', '353,441', '641,872', '72,843', '215,533', '33,025', '683,953', '359,615', '592,759', '115,617', '802,721', '252,298', '271,999', '616,753', '418,532', '1,189,946', '229,793', '307,438', '111,396', '469,441', '495,201', '634,084', '52,239', '287,014', '54,454', '38,758', '293,612', '433,028', '61,327', '247,219', '557,343', '428,852', '100,533', '45,217', '27,190', '47,812', '29,502', '211,242', '95,434', '574,913', '169,157', '89,447', '329,834', '298,022', '37,880', '66,134', '174,008', '143,712', '88,795', '72,935', '36,960', '288,079', '138,339', '49,682', '137,705', '202,773', '137,470', '139,714', '133,107', '47,963', '57,558', '517,354', '98,621', '399,266', '347,544', '385,195', '55,042', '403,886', '60,689', '100,487', '143,088', '31,251', '57,307', '118,667', '72,386', '48,358', '41,925', '109,567', '40,420', '42,364', '196,087', '109,423', '125,698', '44,680', '27,040', '94,071', '169,000', '29,870', '29,309', '44,912', '81,013', '26,539', '30,824', '34,159', '28,190', '64,517', '57,815', '48,131', '25,480', '51,823', '60,728', '32,626', '47,422', '59,664', '70,995', '154,446', '551,521', '118,679', '242,511', '59,574', '559,355', '320,437', '63,875', '29,987', '53,527', '39,053', '439,620', '651,096', '368,258', '129,974', '617,138', '48,463', '89,099', '149,148', '40,946', '83,035', '237,406', '117,125', '410,954', '61,183', '83,703', '415,600', '38,563', '68,466', '345,743', '810,902', '478,887', '80,103', '679,172', '766,118', '170,605', '697,805', '142,089', '605,047', '502,162', '529,982', '212,284', '31,941', '107,363', '80,548', '88,781', '65,117', '121,194', '525,146', '34,369', '184,341', '522,867', '310,340', '29,628', '64,695', '50,115', '439,404', '76,285', '349,725', '305,833', '136,636', '456,677', '381,302', '145,959', '38,048', '444,093', '606,241', '355,958', '218,795', '27,088', '234,355', '204,635', '144,700', '42,917', '54,086', '190,009', '388,420', '263,126', '93,393', '133,482', '35,287', '136,321', '121,602', '63,586', '557,282', '306,073', '539,315', '202,104', '260,313', '69,680', '237,109', '424,049', '196,784', '68,679', '29,889', '294,411', '30,254', '382,820', '299,877', '28,048', '53,894', '207,993', '113,481', '289,030', '36,086', '219,622', '231,858', '44,519', '237,897', '38,688', '57,485', '93,144', '165,546', '49,912', '86,995', '103,595', '255,917', '59,709', '73,456', '47,679', '26,088', '133,778', '551,940', '212,780', '196,427', '38,190', '101,607', '159,877', '123,733', '107,527', '51,077', '194,817', '51,112', '264,631', '85,251', '41,810', '39,692', '119,446', '245,651', '51,356', '232,840', '265,376', '25,982', '38,205', '136,382', '120,532', '30,192', '71,896', '106,647', '53,951', '120,508', '153,378', '30,228', '71,893', '111,141', '43,757', '34,209', '38,757', '186,747', '184,972', '55,150', '28,810', '40,890', '93,695', '79,689', '48,893', '89,327', '27,341', '38,209', '77,751', '40,271', '94,544', '27,603', '83,806', '100,175', '158,829', '685,435', '647,399', '510,475', '306,150', '284,476', '319,639', '177,533', '415,891', '266,816', '52,920', '224,767', '99,190', '433,211', '201,625', '243,518', '370,648', '372,342', '37,322', '333,267', '532,259', '519,068', '327,062', '552,519', '67,070', '410,042', '149,892', '559,469', '323,250', '139,375', '561,838', '299,562', '239,664', '268,982', '105,530', '365,644', '268,824', '454,970', '801,701', '215,783', '540,697', '310,697', '409,747', '25,330', '68,998', '73,478', '70,083', '474,063', '177,199', '479,792', '149,055', '180,448', '287,142', '750,562', '358,700', '205,466', '564,704', '182,720', '762,158', '185,151', '279,088', '462,865', '41,084', '197,781', '382,092', '79,870', '72,053', '186,085', '121,328', '119,794', '386,672', '255,288', '165,521', '252,109', '253,736', '176,066', '67,662', '177,286', '197,893', '30,157', '103,137', '57,418', '34,519', '178,340', '52,552', '177,064', '34,753', '30,975', '63,988', '46,457', '195,088', '56,241', '34,322']\n"
          ]
        }
      ]
    }
  ]
}